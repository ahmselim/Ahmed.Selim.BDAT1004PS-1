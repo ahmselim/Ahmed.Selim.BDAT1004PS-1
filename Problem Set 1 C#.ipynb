{
 "cells": [
  {
   "cell_type": "markdown",
   "id": "c4a77ffb",
   "metadata": {},
   "source": [
    "# Question 1 \n",
    "What data type is each of the following?\n"
   ]
  },
  {
   "cell_type": "markdown",
   "id": "172911a7",
   "metadata": {},
   "source": [
    "5            int\n",
    "5.0          float\n",
    "5 > 1        boolean\n",
    "'5'          char\n",
    "5 * 2        int\n",
    "'5' * 2      string\n",
    "'5' + '2'    string\n",
    "5 / 2        float\n",
    "5 % 2        int\n",
    "{5, 2, 1}    array\n",
    "5 == 3       boolean\n",
    "Pi           decimal"
   ]
  },
  {
   "cell_type": "markdown",
   "id": "cd5ad4f9",
   "metadata": {},
   "source": [
    "# Question 2\n",
    "Write (and evaluate) C# expressions that answer these questions:\n",
    "\n",
    "a. How many letters are there in 'Supercalifragilisticexpialidocious'?"
   ]
  },
  {
   "cell_type": "code",
   "execution_count": 5,
   "id": "662c34b0",
   "metadata": {},
   "outputs": [
    {
     "name": "stdout",
     "output_type": "stream",
     "text": [
      "34\r\n"
     ]
    }
   ],
   "source": [
    "string word = \"Supercalifragilisticexpialidocious\";\n",
    "Console.WriteLine(word.Length);"
   ]
  },
  {
   "cell_type": "markdown",
   "id": "1a1666c5",
   "metadata": {},
   "source": [
    "b. Does 'Supercalifragilisticexpialidocious' contain 'ice' as a substring?"
   ]
  },
  {
   "cell_type": "code",
   "execution_count": 7,
   "id": "aa5c8564",
   "metadata": {},
   "outputs": [
    {
     "data": {
      "text/plain": [
       "True"
      ]
     },
     "execution_count": 7,
     "metadata": {},
     "output_type": "execute_result"
    }
   ],
   "source": [
    "word.Contains(\"ice\")"
   ]
  },
  {
   "cell_type": "markdown",
   "id": "65643554",
   "metadata": {},
   "source": [
    "c. Which of the following words is the longest:\n",
    "Supercalifragilisticexpialidocious, Honorificabilitudinitatibus, or\n",
    "Bababadalgharaghtakamminarronnkonn?"
   ]
  },
  {
   "cell_type": "code",
   "execution_count": 17,
   "id": "c0165fb5",
   "metadata": {},
   "outputs": [
    {
     "name": "stdout",
     "output_type": "stream",
     "text": [
      "the longest words are Supercalifragilisticexpialidocious & Bababadalgharaghtakamminarronnkonn\r\n"
     ]
    }
   ],
   "source": [
    "string s1 = \"Supercalifragilisticexpialidocious\";\n",
    "string s2 = \"Honorificabilitudinitatibus\";\n",
    "string s3 = \"Bababadalgharaghtakamminarronnkonn\";\n",
    "int x = s1.Length;\n",
    "int y = s2.Length;\n",
    "int z = s3.Length;\n",
    "if (x>y && x<z)\n",
    "  {\n",
    "  Console.WriteLine(\"the longest word is \" + s1);\n",
    "  }\n",
    "  else if (y>x && y>z)\n",
    "  {\n",
    "  Console.WriteLine(\"the longest word is \" + s2);\n",
    "  }\n",
    "  else if (z>x && z>y)\n",
    "  {\n",
    "  Console.WriteLine(\"the longest word is \" + s3);\n",
    "  }\n",
    "  else if (x==y)\n",
    "  {\n",
    "  Console.WriteLine(\"the longest words are \" + s1 + \" & \" + s2);\n",
    "  }\n",
    "  else if (x==z)\n",
    "  {\n",
    "  Console.WriteLine(\"the longest words are \" + s1 + \" & \" + s3);\n",
    "  }\n",
    "  else\n",
    "  {\n",
    "  Console.WriteLine(\"the longest words are \" + s2 + \" & \" + s3);\n",
    "  }"
   ]
  },
  {
   "cell_type": "markdown",
   "id": "c9a29f96",
   "metadata": {},
   "source": [
    "# Question 3 \n",
    "Implement function triangleArea(a,b,c) that takes as input the lengths of the 3\n",
    "sides of a triangle and returns the area of the triangle. By Heron's formula, the area\n",
    "of a triangle with side lengths a, b, and c is\n",
    "s(s - a)(s -b)(s -c), where\n",
    "s = (a + b + c) /2."
   ]
  },
  {
   "cell_type": "code",
   "execution_count": 4,
   "id": "ffee7e9a",
   "metadata": {},
   "outputs": [],
   "source": [
    "  double triangleArea(int a, int b, int c)\n",
    "        {\n",
    "            double s = (a + b + c) / 2;\n",
    "            double area = Math.Sqrt(s * (s - a) * (s - b) * (s - c));\n",
    "            return area;\n",
    "\n",
    "        }\n"
   ]
  },
  {
   "cell_type": "code",
   "execution_count": 6,
   "id": "bedbf6cc",
   "metadata": {},
   "outputs": [
    {
     "data": {
      "text/plain": [
       "1.7320508075688772"
      ]
     },
     "execution_count": 6,
     "metadata": {},
     "output_type": "execute_result"
    }
   ],
   "source": [
    "triangleArea(2, 2, 2)"
   ]
  },
  {
   "cell_type": "markdown",
   "id": "6b0ba297",
   "metadata": {},
   "source": [
    "# Question 4 \n",
    "Write a program in C# Sharp to separate odd and even integers in separate arrays."
   ]
  },
  {
   "cell_type": "code",
   "execution_count": 8,
   "id": "ba19223c",
   "metadata": {},
   "outputs": [
    {
     "name": "stdout",
     "output_type": "stream",
     "text": [
      "The Odd Integers are: 25\n",
      "The Odd Integers are: 47\n",
      "The Even Integers are: 42\n",
      "The Even Integers are: 56\n",
      "The Even Integers are: 32\n"
     ]
    }
   ],
   "source": [
    "int[] arr = new int [5];\n",
    "int[] even = new int [5];\n",
    "int[] odd = new int [5];\n",
    "arr[0] = 25;\n",
    "arr[1] = 47;\n",
    "arr[2] = 42;\n",
    "arr[3] = 56;\n",
    "arr[4] = 32;\n",
    "for (int i = 0; i< arr.Length; i++)\n",
    "  {\n",
    "   if (arr[i] % 2 == 0)\n",
    "   {\n",
    "        even[i] = arr[i];\n",
    "       }\n",
    "    else\n",
    "    {\n",
    "        odd[i] = arr[i];\n",
    "    }\n",
    "\n",
    "    if (even[i]!=0)\n",
    "    {\n",
    "     Console.WriteLine(\"The Even Integers are: \" + even[i]);\n",
    "}\n",
    "    else if (odd[i]!=0)\n",
    "    {\n",
    "     Console.WriteLine(\"The Odd Integers are: \" + odd[i]);\n",
    "        \n",
    "}\n",
    "}\n",
    "\n"
   ]
  },
  {
   "cell_type": "markdown",
   "id": "cad15708",
   "metadata": {},
   "source": [
    "# Question 5\n",
    "a. Write a function inside(x,y,x1,y1,x2,y2) that returns True or False depending on whether the point (x,y) lies in the rectangle with lower left corner (x1,y1) and upper right corner (x2,y2)."
   ]
  },
  {
   "cell_type": "code",
   "execution_count": 18,
   "id": "27462e4f",
   "metadata": {},
   "outputs": [],
   "source": [
    "bool inside(double x,double y, double x1, double y1,double x2,double y2)\n",
    "{\n",
    "    if(x>x1 && x<x2 && y>y1 && y<y2)\n",
    "         return true;\n",
    "    else\n",
    "         return false;\n",
    "    \n",
    "}"
   ]
  },
  {
   "cell_type": "code",
   "execution_count": 19,
   "id": "e0ae2fd7",
   "metadata": {},
   "outputs": [
    {
     "data": {
      "text/plain": [
       "True"
      ]
     },
     "execution_count": 19,
     "metadata": {},
     "output_type": "execute_result"
    }
   ],
   "source": [
    "inside (1,1,0,0,2,3)"
   ]
  },
  {
   "cell_type": "code",
   "execution_count": 20,
   "id": "5e380ed9",
   "metadata": {},
   "outputs": [
    {
     "data": {
      "text/plain": [
       "False"
      ]
     },
     "execution_count": 20,
     "metadata": {},
     "output_type": "execute_result"
    }
   ],
   "source": [
    "inside(-1,-1,0,0,2,3)"
   ]
  },
  {
   "cell_type": "markdown",
   "id": "02091877",
   "metadata": {},
   "source": [
    "b. Use function inside() from part a. to write an expression that tests whether the point (1,1) lies in both of the following rectangles: one with lower left corner (0.3, 0.5) and upper right corner (1.1, 0.7) and the other with lower left corner (0.5, 0.2) and upper right corner (1.1, 2)."
   ]
  },
  {
   "cell_type": "code",
   "execution_count": 30,
   "id": "d688779d",
   "metadata": {},
   "outputs": [
    {
     "name": "stdout",
     "output_type": "stream",
     "text": [
      "It doesn't lie in both rectangles\r\n"
     ]
    }
   ],
   "source": [
    "bool rec1 = inside (1,1,0.3,0.5,1.1,0.7);\n",
    "bool rec2 = inside (1,1,0.5,0.2,1.1,2);\n",
    "if (rec1 == true && rec2 == true)\n",
    "{\n",
    "Console.WriteLine (\"It lies in both rectangles\");\n",
    "}\n",
    "else\n",
    "{\n",
    "Console.WriteLine (\"It doesn't lie in both rectangles\");\n",
    "}"
   ]
  },
  {
   "cell_type": "code",
   "execution_count": null,
   "id": "e0781acb",
   "metadata": {},
   "outputs": [],
   "source": []
  }
 ],
 "metadata": {
  "kernelspec": {
   "display_name": ".NET (C#)",
   "language": "C#",
   "name": ".net-csharp"
  },
  "language_info": {
   "file_extension": ".cs",
   "mimetype": "text/x-csharp",
   "name": "C#",
   "pygments_lexer": "csharp",
   "version": "8.0"
  }
 },
 "nbformat": 4,
 "nbformat_minor": 5
}
